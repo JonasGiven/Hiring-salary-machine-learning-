{
  "nbformat": 4,
  "nbformat_minor": 0,
  "metadata": {
    "colab": {
      "private_outputs": true,
      "provenance": [],
      "toc_visible": true,
      "authorship_tag": "ABX9TyOheMVQzX0hFPTc64IoirXo",
      "include_colab_link": true
    },
    "kernelspec": {
      "name": "python3",
      "display_name": "Python 3"
    },
    "language_info": {
      "name": "python"
    }
  },
  "cells": [
    {
      "cell_type": "markdown",
      "metadata": {
        "id": "view-in-github",
        "colab_type": "text"
      },
      "source": [
        "<a href=\"https://colab.research.google.com/github/JonasGiven/Hiring-salary-machine-learning-/blob/main/Hiring_salary_machine_learning_.ipynb\" target=\"_parent\"><img src=\"https://colab.research.google.com/assets/colab-badge.svg\" alt=\"Open In Colab\"/></a>"
      ]
    },
    {
      "cell_type": "markdown",
      "source": [
        "# **Hiring salary**\n",
        "Determining salary for new recruits using machine learning."
      ],
      "metadata": {
        "id": "zzI0BcSTFUTO"
      }
    },
    {
      "cell_type": "markdown",
      "source": [
        "## **1. Data preprocessing**"
      ],
      "metadata": {
        "id": "8MWtDB9JFnPk"
      }
    },
    {
      "cell_type": "code",
      "execution_count": null,
      "metadata": {
        "id": "h6RBeLJDFLMB"
      },
      "outputs": [],
      "source": [
        "import pandas as pd\n",
        "df_hiring = pd.read_csv('/content/hiring 2024-05-24 05_26_29.csv')\n",
        "df_hiring"
      ]
    },
    {
      "cell_type": "code",
      "source": [
        "#replacing NaN values with 0; no experience\n",
        "df_hiring.experience.fillna(0, inplace=True)\n",
        "df_hiring"
      ],
      "metadata": {
        "id": "e0iQPIBQGbEb"
      },
      "execution_count": null,
      "outputs": []
    },
    {
      "cell_type": "code",
      "source": [
        "#for the \ttest_score(out of 10), determine median value\n",
        "median_value = df_hiring['test_score(out of 10)'].median()"
      ],
      "metadata": {
        "id": "1ncc5WyKHWSV"
      },
      "execution_count": null,
      "outputs": []
    },
    {
      "cell_type": "code",
      "source": [
        "#for the \ttest_score(out of 10), replace NaN with median value.\n",
        "df_hiring['test_score(out of 10)'].fillna(median_value, inplace=True)\n",
        "df_hiring\n",
        "\n"
      ],
      "metadata": {
        "id": "msLu4Wt3H1sH"
      },
      "execution_count": null,
      "outputs": []
    },
    {
      "cell_type": "code",
      "source": [
        "#for experience column convert words to numeric\n",
        " # Mapping dictionary\n",
        "experience_mapping = {'zero': 0, 'one': 1, 'two': 2, 'three': 3, 'four': 4, 'five': 5, 'six': 6, 'seven': 7, 'eight': 8, 'nine': 9, 'ten': 10, 'eleven': 11}\n",
        "\n",
        "# Replace experience column values\n",
        "df_hiring['experience'] = df_hiring['experience'].replace(experience_mapping).astype(int)\n",
        "df_hiring\n"
      ],
      "metadata": {
        "id": "KK2bkrI4KMej"
      },
      "execution_count": null,
      "outputs": []
    },
    {
      "cell_type": "markdown",
      "source": [
        "## **2. Model training**"
      ],
      "metadata": {
        "id": "VqkJpXYoM4m9"
      }
    },
    {
      "cell_type": "code",
      "source": [
        "import pandas as pd\n",
        "import numpy as np\n",
        "from sklearn import linear_model"
      ],
      "metadata": {
        "id": "QUQDg7xcM--h"
      },
      "execution_count": null,
      "outputs": []
    },
    {
      "cell_type": "code",
      "source": [
        "#create our linear regression model\n",
        "reg = linear_model.LinearRegression()\n",
        "reg"
      ],
      "metadata": {
        "id": "Re54io3RNPuQ"
      },
      "execution_count": null,
      "outputs": []
    },
    {
      "cell_type": "code",
      "source": [
        "#train our model using fit method\n",
        "reg.fit(df_hiring[['experience', 'test_score(out of 10)',\n",
        "                   'interview_score(out of 10)']],\n",
        "                    df_hiring['salary($)'])\n"
      ],
      "metadata": {
        "id": "Uy9ltTT4NijE"
      },
      "execution_count": null,
      "outputs": []
    },
    {
      "cell_type": "code",
      "source": [
        "#our coefficients\n",
        "reg.coef_"
      ],
      "metadata": {
        "id": "2KQGjvNmOiSV"
      },
      "execution_count": null,
      "outputs": []
    },
    {
      "cell_type": "code",
      "source": [
        "#our intercept\n",
        "reg.intercept_"
      ],
      "metadata": {
        "id": "R58lBUt9OqjH"
      },
      "execution_count": null,
      "outputs": []
    },
    {
      "cell_type": "markdown",
      "source": [
        "## **2.1 Predictions**\n",
        "\n",
        "How much should an employee with,<br/>\n",
        "**14** years of experience, got **9**\ttest_score(out of 10) and **7**\tinterview_score(out of 10) earn?\n"
      ],
      "metadata": {
        "id": "xjWHLWrlO5vj"
      }
    },
    {
      "cell_type": "code",
      "source": [
        "reg.predict([[14,9,7]])"
      ],
      "metadata": {
        "id": "5nj3UvupPA4M"
      },
      "execution_count": null,
      "outputs": []
    },
    {
      "cell_type": "markdown",
      "source": [
        "The employee will be paid around $89 167, which makes sense since he has the most work experience and he did great on both the test and interview."
      ],
      "metadata": {
        "id": "R9sMPzMeQbpz"
      }
    }
  ]
}